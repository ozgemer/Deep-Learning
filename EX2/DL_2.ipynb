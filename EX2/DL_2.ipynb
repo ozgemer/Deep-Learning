{
  "cells": [
    {
      "cell_type": "markdown",
      "metadata": {
        "collapsed": false,
        "id": "XDDbguyGU8Fs"
      },
      "source": [
        "# Mid-semester assignment Part 2 - Basics of deep learning\n",
        "Hello dear students,<br> this is the template notebook. Please upload it into your drive and open as Google Colab nootebook\".\n",
        "\n",
        "---\n",
        "<br>\n",
        "\n",
        "### Name and ID:\n",
        "Student 1: Oz Gemer 208426460\n",
        "<br>\n",
        "Student 2: Ofir Gur Cohen 206588642"
      ]
    },
    {
      "cell_type": "markdown",
      "metadata": {
        "id": "JLkWLC8f3HZI"
      },
      "source": [
        "## Fashion MNIST with Pytorch\n",
        "Fashion MNIST dataset contains 70,000 grayscale images in 10 categories. The images show individual articles of clothing at low resolution (28 by 28 pixels), as seen here:\n",
        "\n",
        "<table>\n",
        "  <tr><td>\n",
        "    <img src=\"https://i.postimg.cc/RVVCnL8w/mnist-fa-torch.png\"\n",
        "         alt=\"Fashion MNIST sprite\"  width=\"600\">\n",
        "  </td></tr>\n",
        "  \n",
        "</table>\n"
      ]
    },
    {
      "cell_type": "markdown",
      "metadata": {
        "id": "WiRxNFCn3Vxd"
      },
      "source": [
        "Loading the dataset returns four NumPy arrays:\n",
        "\n",
        "* The `train_images` and `train_labels` arrays are the *training set*—the data the model uses to learn.\n",
        "* The model is tested against the *test set*, the `test_images`, and `test_labels` arrays.\n",
        "\n",
        "The images are 28x28 NumPy arrays, with pixel values ranging between 0 and 255. The *labels* are an array of integers, ranging from 0 to 9. These correspond to the *class* of clothing the image represents:\n",
        "\n",
        "<table>\n",
        "  <tr>\n",
        "    <th>Label</th>\n",
        "    <th>Class</th>\n",
        "  </tr>\n",
        "  <tr>\n",
        "    <td>0</td>\n",
        "    <td>T-shirt/top</td>\n",
        "  </tr>\n",
        "  <tr>\n",
        "    <td>1</td>\n",
        "    <td>Trouser</td>\n",
        "  </tr>\n",
        "    <tr>\n",
        "    <td>2</td>\n",
        "    <td>Pullover</td>\n",
        "  </tr>\n",
        "    <tr>\n",
        "    <td>3</td>\n",
        "    <td>Dress</td>\n",
        "  </tr>\n",
        "    <tr>\n",
        "    <td>4</td>\n",
        "    <td>Coat</td>\n",
        "  </tr>\n",
        "    <tr>\n",
        "    <td>5</td>\n",
        "    <td>Sandal</td>\n",
        "  </tr>\n",
        "    <tr>\n",
        "    <td>6</td>\n",
        "    <td>Shirt</td>\n",
        "  </tr>\n",
        "    <tr>\n",
        "    <td>7</td>\n",
        "    <td>Sneaker</td>\n",
        "  </tr>\n",
        "    <tr>\n",
        "    <td>8</td>\n",
        "    <td>Bag</td>\n",
        "  </tr>\n",
        "    <tr>\n",
        "    <td>9</td>\n",
        "    <td>Ankle boot</td>\n",
        "  </tr>\n",
        "</table>\n",
        "\n",
        "<br>\n",
        "\n",
        "Goodluck!"
      ]
    },
    {
      "cell_type": "markdown",
      "metadata": {
        "id": "UPCSaccR32De"
      },
      "source": [
        "# Import Libraries"
      ]
    },
    {
      "cell_type": "code",
      "execution_count": null,
      "metadata": {
        "id": "RyvoZdAXU8GG",
        "colab": {
          "base_uri": "https://localhost:8080/"
        },
        "outputId": "ba02aa70-1549-4d30-d608-bdeb80293cae"
      },
      "outputs": [
        {
          "output_type": "stream",
          "name": "stdout",
          "text": [
            "/usr/local/lib/python3.8/dist-packages/gdown/cli.py:127: FutureWarning: Option `--id` was deprecated in version 4.3.1 and will be removed in 5.0. You don't need to pass it anymore to use a file ID.\n",
            "  warnings.warn(\n",
            "Downloading...\n",
            "From: https://drive.google.com/uc?id=1eK_D8v71BPK_lSdc9du_M3xK9tGBcQO1\n",
            "To: /content/DL2_p2.pt\n",
            "100% 816k/816k [00:00<00:00, 150MB/s]\n",
            "/usr/local/lib/python3.8/dist-packages/gdown/cli.py:127: FutureWarning: Option `--id` was deprecated in version 4.3.1 and will be removed in 5.0. You don't need to pass it anymore to use a file ID.\n",
            "  warnings.warn(\n",
            "Downloading...\n",
            "From: https://drive.google.com/uc?id=1ZdoMtDy9Di0NH9EWIaAy1dwYaPqYsy2x\n",
            "To: /content/DL2_p1.pt\n",
            "100% 33.0k/33.0k [00:00<00:00, 47.3MB/s]\n",
            "/usr/local/lib/python3.8/dist-packages/gdown/cli.py:127: FutureWarning: Option `--id` was deprecated in version 4.3.1 and will be removed in 5.0. You don't need to pass it anymore to use a file ID.\n",
            "  warnings.warn(\n",
            "Downloading...\n",
            "From: https://drive.google.com/uc?id=1bl1RKHroQtmOr9KiL7IMRtcWSyqsNww2\n",
            "To: /content/explainer.md\n",
            "100% 1.51k/1.51k [00:00<00:00, 3.02MB/s]\n",
            "Using cuda device\n"
          ]
        }
      ],
      "source": [
        "import torch\n",
        "import numpy as np\n",
        "import torch.nn as nn\n",
        "import torch.nn.functional as F\n",
        "from torch.utils import data\n",
        "from sklearn.model_selection import train_test_split\n",
        "from sklearn.datasets import fetch_openml\n",
        "import matplotlib.pyplot as plt\n",
        "from sklearn.metrics import classification_report, accuracy_score, confusion_matrix, ConfusionMatrixDisplay\n",
        "import tensorflow as tf\n",
        "from tensorflow import keras\n",
        "from keras.datasets import mnist\n",
        "import torchvision\n",
        "import itertools\n",
        "from torch.utils.data import DataLoader, RandomSampler\n",
        "from torch import optim\n",
        "from google.colab import drive\n",
        "\n",
        "device = \"cuda\" if torch.cuda.is_available() else \"cpu\"\n",
        "!gdown --id 1eK_D8v71BPK_lSdc9du_M3xK9tGBcQO1\n",
        "!gdown --id 1ZdoMtDy9Di0NH9EWIaAy1dwYaPqYsy2x\n",
        "!gdown --id 1bl1RKHroQtmOr9KiL7IMRtcWSyqsNww2\n",
        "print(f\"Using {device} device\")"
      ]
    },
    {
      "cell_type": "markdown",
      "metadata": {
        "collapsed": false,
        "id": "EU8d54pEU8GF"
      },
      "source": [
        "# Neural Network with Pytorch part 1 (Binary Classification)"
      ]
    },
    {
      "cell_type": "markdown",
      "metadata": {
        "id": "Q1WPjPPR6Wpr"
      },
      "source": [
        "## Load Dataset"
      ]
    },
    {
      "cell_type": "code",
      "execution_count": null,
      "metadata": {
        "colab": {
          "base_uri": "https://localhost:8080/",
          "height": 426
        },
        "id": "-oESjif0xw8m",
        "outputId": "91d7ff81-df4a-484e-9829-44359e79ddde"
      },
      "outputs": [
        {
          "output_type": "stream",
          "name": "stdout",
          "text": [
            "Downloading data from https://storage.googleapis.com/tensorflow/tf-keras-datasets/train-labels-idx1-ubyte.gz\n",
            "29515/29515 [==============================] - 0s 0us/step\n",
            "Downloading data from https://storage.googleapis.com/tensorflow/tf-keras-datasets/train-images-idx3-ubyte.gz\n",
            "26421880/26421880 [==============================] - 2s 0us/step\n",
            "Downloading data from https://storage.googleapis.com/tensorflow/tf-keras-datasets/t10k-labels-idx1-ubyte.gz\n",
            "5148/5148 [==============================] - 0s 0us/step\n",
            "Downloading data from https://storage.googleapis.com/tensorflow/tf-keras-datasets/t10k-images-idx3-ubyte.gz\n",
            "4422102/4422102 [==============================] - 0s 0us/step\n",
            "(28, 28)\n"
          ]
        },
        {
          "output_type": "display_data",
          "data": {
            "text/plain": [
              "<Figure size 432x288 with 1 Axes>"
            ],
            "image/png": "[encoded data removed]"
          },
          "metadata": {
            "needs_background": "light"
          }
        }
      ],
      "source": [
        "fashion_mnist = keras.datasets.fashion_mnist\n",
        "(X_train, y_train), (X_test, y_test) = fashion_mnist.load_data()\n",
        "print(X_test[1].shape)\n",
        "plt.imshow(X_test[1], cmap='gray')\n",
        "plt.show()"
      ]
    },
    {
      "cell_type": "markdown",
      "metadata": {
        "collapsed": false,
        "id": "6Sm0udbSU8GG"
      },
      "source": [
        "## Data preprocessing"
      ]
    },
    {
      "cell_type": "code",
      "execution_count": null,
      "metadata": {
        "colab": {
          "base_uri": "https://localhost:8080/"
        },
        "id": "hzqQphx7U8GH",
        "outputId": "ec94434b-27b6-4450-fe3a-c27267320d80"
      },
      "outputs": [
        {
          "output_type": "execute_result",
          "data": {
            "text/plain": [
              "((60000, 28, 28), (10000, 28, 28))"
            ]
          },
          "metadata": {},
          "execution_count": 3
        }
      ],
      "source": [
        "# Feature scaling\n",
        "X_train = X_train/255.0\n",
        "X_test = X_test/255.0\n",
        "X_train.shape, X_test.shape"
      ]
    },
    {
      "cell_type": "markdown",
      "metadata": {
        "id": "YSzvJ196GkvO"
      },
      "source": [
        "Select two classes"
      ]
    },
    {
      "cell_type": "code",
      "execution_count": null,
      "metadata": {
        "id": "yjpHGlrmGlbe"
      },
      "outputs": [],
      "source": [
        "class1 = 2 # Pullover\n",
        "class2 = 5 # Sandel\n",
        "\n",
        "filtered_train_x = []\n",
        "filtered_train_y = []\n",
        "filtered_test_x = []\n",
        "filtered_test_y = []\n",
        "\n",
        "for i in range(len(y_train)):\n",
        "  label = y_train[i]\n",
        "  if label in [class1, class2]:\n",
        "    filtered_train_x.append(X_train[i])\n",
        "    filtered_train_y.append(0 if label == class1 else 1)\n",
        "\n",
        "for i in range(len(y_test)):\n",
        "  label = y_test[i]\n",
        "  if label in [class1, class2]:\n",
        "    filtered_test_x.append(X_test[i])\n",
        "    filtered_test_y.append(0 if label == class1 else 1)"
      ]
    },
    {
      "cell_type": "markdown",
      "metadata": {
        "collapsed": false,
        "id": "FlCtN7Y-U8GH"
      },
      "source": [
        "Use Pytorch data tools to preprocessed the row data<br>\n",
        "Read about pytorch data tools here: https://pytorch.org/docs/stable/data.html"
      ]
    },
    {
      "cell_type": "code",
      "execution_count": null,
      "metadata": {
        "id": "QY3Bvfj4gq1C"
      },
      "outputs": [],
      "source": [
        "class MyDataset(data.Dataset):\n",
        "  def __init__(self,X,Y):\n",
        "    self.X = X\n",
        "    self.Y = Y\n",
        "  def __len__(self):\n",
        "    return len(self.Y)\n",
        "  def __getitem__(self,index):\n",
        "    X = self.X[index].float().reshape(-1)\n",
        "    Y = self.Y[index].long()\n",
        "    return X,Y"
      ]
    },
    {
      "cell_type": "markdown",
      "source": [
        "Splitting into datasets: train, test & validation\n",
        "<br><i>(didnt really understand if validation is needed here so we added it anyways)</i>"
      ],
      "metadata": {
        "id": "_onEie2jnim_"
      }
    },
    {
      "cell_type": "code",
      "execution_count": null,
      "metadata": {
        "id": "PrJ6v0ACU8GI"
      },
      "outputs": [],
      "source": [
        "torch_train_x = torch.from_numpy(np.array(filtered_train_x)).float()\n",
        "torch_train_y =  torch.from_numpy(np.array(filtered_train_y))\n",
        "\n",
        "torch_test_x = torch.from_numpy(np.array(filtered_test_x)).float()\n",
        "torch_test_y =  torch.from_numpy(np.array(filtered_test_y))"
      ]
    },
    {
      "cell_type": "code",
      "source": [
        "torch_train_x, validation_x, torch_train_y, validation_y = train_test_split(filtered_train_x, filtered_train_y, test_size=0.2, random_state=42)"
      ],
      "metadata": {
        "id": "WfKKf3BVhVIi"
      },
      "execution_count": null,
      "outputs": []
    },
    {
      "cell_type": "code",
      "execution_count": null,
      "metadata": {
        "id": "Uc4MstrgV96e"
      },
      "outputs": [],
      "source": [
        "train_dataset = MyDataset(torch.from_numpy(np.array(torch_train_x)).float(),torch.from_numpy(np.array(torch_train_y)))\n",
        "train_loader_args = dict(shuffle=True,batch_size=256,num_workers=0)\n",
        "train_loader = data.DataLoader(train_dataset, **train_loader_args)\n",
        "\n",
        "validation_dataset = MyDataset(torch.from_numpy(np.array(validation_x)).float(),torch.from_numpy(np.array(validation_y)))\n",
        "validation_loader_args = dict(shuffle = True,batch_size = 256, num_workers = 0)\n",
        "validation_loader = DataLoader(validation_dataset, **validation_loader_args)\n",
        "\n",
        "test_dataset = MyDataset(torch_test_x.data,torch_test_y.data)\n",
        "test_loader_args = dict(shuffle=True,batch_size=256,num_workers=0)\n",
        "test_loader = data.DataLoader(test_dataset, **test_loader_args)"
      ]
    },
    {
      "cell_type": "code",
      "execution_count": null,
      "metadata": {
        "colab": {
          "base_uri": "https://localhost:8080/",
          "height": 283
        },
        "id": "AMdxSkqIWeGx",
        "outputId": "ef25dd06-7e9b-42c4-befe-249f548dcf5a"
      },
      "outputs": [
        {
          "output_type": "execute_result",
          "data": {
            "text/plain": [
              "<matplotlib.image.AxesImage at 0x7f80d1f0f4f0>"
            ]
          },
          "metadata": {},
          "execution_count": 9
        },
        {
          "output_type": "display_data",
          "data": {
            "text/plain": [
              "<Figure size 432x288 with 1 Axes>"
            ],
            "image/png": "[encoded data removed]"
          },
          "metadata": {
            "needs_background": "light"
          }
        }
      ],
      "source": [
        "plt.imshow(train_dataset.X.numpy()[0], cmap='gray')"
      ]
    },
    {
      "cell_type": "markdown",
      "metadata": {
        "collapsed": false,
        "id": "jwIzE9kSU8GI"
      },
      "source": [
        "### Build the network layers\n",
        "Read about Fully connected layers in pytorch here: https://pytorch.org/tutorials/beginner/basics/buildmodel_tutorial.html"
      ]
    },
    {
      "cell_type": "code",
      "execution_count": null,
      "metadata": {
        "id": "Y5YZXlERYJQe"
      },
      "outputs": [],
      "source": [
        "class NeuralNetwork(nn.Module):\n",
        "  def __init__(self):\n",
        "    super(NeuralNetwork,self).__init__()\n",
        "    layers = []\n",
        "    layers.append(nn.Linear(28*28, 10))\n",
        "    layers.append(nn.ReLU())\n",
        "    layers.append(nn.Linear(10, 1))\n",
        "    self.net = nn.Sequential(*layers)\n",
        "\n",
        "  def forward(self, x):\n",
        "    return self.net(x)\n",
        "\n",
        "  def predict(self, data):\n",
        "    predicted_y = []\n",
        "    data = data.to(device)\n",
        "    model = self\n",
        "    for i in range(len(data)):\n",
        "      prediction = model(data[i].reshape(-1)).item()\n",
        "      predicted_y.append(0 if prediction < 0 else 1)\n",
        "    return predicted_y"
      ]
    },
    {
      "cell_type": "code",
      "execution_count": null,
      "metadata": {
        "colab": {
          "base_uri": "https://localhost:8080/"
        },
        "id": "urRRwc_-wvot",
        "outputId": "1eee62f5-1f08-40af-9e37-6efb7a21a038"
      },
      "outputs": [
        {
          "output_type": "stream",
          "name": "stdout",
          "text": [
            "NeuralNetwork(\n",
            "  (net): Sequential(\n",
            "    (0): Linear(in_features=784, out_features=10, bias=True)\n",
            "    (1): ReLU()\n",
            "    (2): Linear(in_features=10, out_features=1, bias=True)\n",
            "  )\n",
            ")\n"
          ]
        }
      ],
      "source": [
        "model = NeuralNetwork().to(device)\n",
        "print(model)"
      ]
    },
    {
      "cell_type": "markdown",
      "metadata": {
        "collapsed": false,
        "id": "VH6cuNVOU8GJ"
      },
      "source": [
        "### Build the Optimizer\n",
        "Read about the Optimizer here: https://pytorch.org/docs/stable/optim.html"
      ]
    },
    {
      "cell_type": "code",
      "execution_count": null,
      "metadata": {
        "id": "2Xndbe19U8GJ"
      },
      "outputs": [],
      "source": [
        "optimizer = optim.SGD(model.parameters(), lr= 0.01)"
      ]
    },
    {
      "cell_type": "markdown",
      "metadata": {
        "id": "caZLAbsDxCFW"
      },
      "source": [
        "### Loss Function\n",
        "Read about Loss here: https://pytorch.org/docs/stable/optim.html"
      ]
    },
    {
      "cell_type": "code",
      "execution_count": null,
      "metadata": {
        "id": "n9YuCsxFxDEl"
      },
      "outputs": [],
      "source": [
        "loss = nn.BCEWithLogitsLoss()"
      ]
    },
    {
      "cell_type": "markdown",
      "metadata": {
        "collapsed": false,
        "id": "c7kXhHkoU8GJ"
      },
      "source": [
        "### Training\n",
        "Train your model, Don't forget to store the \"loss\" and \"Accuracy\" while training, you will have to show them later.<br>\n",
        "Read about Loss here: https://pytorch.org/tutorials/beginner/introyt/trainingyt.html"
      ]
    },
    {
      "cell_type": "code",
      "execution_count": null,
      "metadata": {
        "id": "1Ahuf9bmwxta"
      },
      "outputs": [],
      "source": [
        "def train(model,train_loader,criterion,optimizer):\n",
        "  model.train()\n",
        "  model.to(device)\n",
        "  running_loss = 0.0\n",
        "  accuracy = 0.0\n",
        "  for batch_idx,(data,target) in enumerate(train_loader):\n",
        "    optimizer.zero_grad()\n",
        "    data = data.to(device)\n",
        "    target = target.to(device)\n",
        "    outputs = model(data)\n",
        "    outputs = outputs.reshape(-1)\n",
        "    current_loss = criterion(outputs,target.float())\n",
        "    running_loss += current_loss.item()\n",
        "\n",
        "    current_loss.backward()\n",
        "    optimizer.step()\n",
        "\n",
        "    predicted = outputs\n",
        "    predicted[predicted<0] = 0\n",
        "    predicted[predicted>0] = 1\n",
        "    accuracy += (predicted == target).sum().item()\n",
        "\n",
        "  running_loss /= len(train_loader)\n",
        "  accuracy = accuracy/(len(train_loader.dataset.Y))*100\n",
        "  return running_loss,accuracy"
      ]
    },
    {
      "cell_type": "code",
      "source": [
        "def validation(model,data_loader,criterion):\n",
        "  with torch.no_grad():\n",
        "    model.eval()\n",
        "    model.to(device)\n",
        "    running_loss = 0.0\n",
        "    accuracy = 0\n",
        "    for batch_idx,(data,target) in enumerate(data_loader):\n",
        "      data = data.to(device)\n",
        "      target = target.to(device)\n",
        "      outputs = model(data)\n",
        "      outputs = outputs.reshape(-1)\n",
        "      current_loss = criterion(outputs.float(),target.float()).detach()\n",
        "      running_loss += current_loss.item()\n",
        "\n",
        "      predicted = outputs\n",
        "      predicted[predicted<0] = 0\n",
        "      predicted[predicted>0] = 1\n",
        "      accuracy += (predicted == target).sum().item()\n",
        "\n",
        "    running_loss /= len(data_loader)\n",
        "    accuracy = (accuracy/len(data_loader.dataset.Y))*100.0\n",
        "    return running_loss,accuracy"
      ],
      "metadata": {
        "id": "sehqlqJBg6oC"
      },
      "execution_count": null,
      "outputs": []
    },
    {
      "cell_type": "code",
      "execution_count": null,
      "metadata": {
        "colab": {
          "base_uri": "https://localhost:8080/"
        },
        "id": "Sq1KOMEeU8GJ",
        "outputId": "1dc5f709-0613-4051-d0fe-610dfb9282c8"
      },
      "outputs": [
        {
          "output_type": "stream",
          "name": "stdout",
          "text": [
            "[0.5800909384300834, 0.45496509341817154, 0.36252818138975845, 0.2834548809026417, 0.21733021814572184, 0.16880881276569867, 0.1343339152242008, 0.1103274608521085, 0.09314444602320068, 0.08033695307217147, 0.07080482554278876, 0.06279995910039074, 0.056791596702839196, 0.05198263347541031, 0.04798537845674314]\n",
            "[51.17708333333333, 79.23958333333333, 95.73958333333333, 98.21875, 98.97916666666666, 99.30208333333333, 99.36458333333333, 99.41666666666666, 99.4375, 99.42708333333333, 99.4375, 99.45833333333334, 99.45833333333334, 99.44791666666667, 99.45833333333334]\n"
          ]
        }
      ],
      "source": [
        "numner_of_epochs = 15\n",
        "eval_losses=[]\n",
        "eval_accu=[]\n",
        "validation_losses=[]\n",
        "validation_accu=[]\n",
        "for epoch in range(numner_of_epochs):\n",
        "  train_loss,train_acc = train(model,train_loader,loss,optimizer)\n",
        "  eval_losses.append(train_loss)\n",
        "  eval_accu.append(train_acc)\n",
        "\n",
        "  validation_loss, validation_acc = validation(model,validation_loader,loss)\n",
        "  validation_losses.append(validation_loss)\n",
        "  validation_accu.append(validation_acc)\n",
        "\n",
        "print(eval_losses)\n",
        "print(eval_accu)"
      ]
    },
    {
      "cell_type": "markdown",
      "metadata": {
        "id": "zS3_ZnXk450S"
      },
      "source": [
        "### Save Trained model (weights)\n",
        "Read about Save and load models in pytorch here: [https://pytorch.org/tutorials/beginner/saving_loading_models.html](https://pytorch.org/tutorials/beginner/saving_loading_models.html)\n"
      ]
    },
    {
      "cell_type": "code",
      "execution_count": null,
      "metadata": {
        "id": "Pb66kyHa5c-l",
        "colab": {
          "base_uri": "https://localhost:8080/"
        },
        "outputId": "03469d62-4fb2-4276-d28d-4cddc7890145"
      },
      "outputs": [
        {
          "output_type": "stream",
          "name": "stdout",
          "text": [
            "skipping\n"
          ]
        }
      ],
      "source": [
        "%%script echo skipping\n",
        "#drive.mount('/content/gdrive', force_remount = True)\n",
        "PATH = \"/content/gdrive/My Drive/DL/Assignment 2/DL2_p1.pt\"\n",
        "torch.save(model.state_dict(), PATH)"
      ]
    },
    {
      "cell_type": "markdown",
      "metadata": {
        "collapsed": false,
        "id": "bkNYD1oRU8GK"
      },
      "source": [
        "### Loss and Accuracy Visualization\n",
        "Show  on plot the lose during training"
      ]
    },
    {
      "cell_type": "code",
      "execution_count": null,
      "metadata": {
        "id": "iM8si3EBU8GK",
        "colab": {
          "base_uri": "https://localhost:8080/",
          "height": 285
        },
        "outputId": "3c89a059-9fac-4cf7-f7cb-e63f6c057797"
      },
      "outputs": [
        {
          "output_type": "execute_result",
          "data": {
            "text/plain": [
              "[<matplotlib.lines.Line2D at 0x7f80d2512730>]"
            ]
          },
          "metadata": {},
          "execution_count": 19
        },
        {
          "output_type": "display_data",
          "data": {
            "text/plain": [
              "<Figure size 432x288 with 1 Axes>"
            ],
            "image/png": "[encoded data removed]"
          },
          "metadata": {
            "needs_background": "light"
          }
        }
      ],
      "source": [
        "plt.plot(eval_losses)"
      ]
    },
    {
      "cell_type": "markdown",
      "metadata": {
        "collapsed": false,
        "id": "w4JBO5zuU8GK"
      },
      "source": [
        "Show  on plot the accuracy during training"
      ]
    },
    {
      "cell_type": "code",
      "execution_count": null,
      "metadata": {
        "colab": {
          "base_uri": "https://localhost:8080/",
          "height": 283
        },
        "id": "hOCsxuuTU8GK",
        "outputId": "86081179-11b7-4f50-fab2-298e3ab03167"
      },
      "outputs": [
        {
          "output_type": "execute_result",
          "data": {
            "text/plain": [
              "[<matplotlib.lines.Line2D at 0x7f80d15dfdc0>]"
            ]
          },
          "metadata": {},
          "execution_count": 20
        },
        {
          "output_type": "display_data",
          "data": {
            "text/plain": [
              "<Figure size 432x288 with 1 Axes>"
            ],
            "image/png": "[encoded data removed]"
          },
          "metadata": {
            "needs_background": "light"
          }
        }
      ],
      "source": [
        "plt.plot(eval_accu)"
      ]
    },
    {
      "cell_type": "markdown",
      "source": [
        "<h4>comparing train & validation statistics</h4>"
      ],
      "metadata": {
        "id": "_7eqrBSnoHbr"
      }
    },
    {
      "cell_type": "code",
      "source": [
        "def compare(graph1,graph2,label):\n",
        "  plt.plot(graph1,color='b',label='train'),plt.plot(graph2,color='r',label='val')\n",
        "  plt.xlabel('epochs')\n",
        "  plt.ylabel(label)\n",
        "  plt.legend()"
      ],
      "metadata": {
        "id": "OHsl-rFQhzb5"
      },
      "execution_count": null,
      "outputs": []
    },
    {
      "cell_type": "code",
      "source": [
        "compare(eval_losses,validation_losses,'loss')"
      ],
      "metadata": {
        "id": "M49Cs5voiFWj",
        "colab": {
          "base_uri": "https://localhost:8080/",
          "height": 281
        },
        "outputId": "0f044336-067b-4451-da3c-d3232a60375f"
      },
      "execution_count": null,
      "outputs": [
        {
          "output_type": "display_data",
          "data": {
            "text/plain": [
              "<Figure size 432x288 with 1 Axes>"
            ],
            "image/png": "[encoded data removed]"
          },
          "metadata": {
            "needs_background": "light"
          }
        }
      ]
    },
    {
      "cell_type": "code",
      "source": [
        "compare(eval_accu,validation_accu,'accuracy')"
      ],
      "metadata": {
        "id": "Hj9GlnEmiFwP",
        "colab": {
          "base_uri": "https://localhost:8080/",
          "height": 279
        },
        "outputId": "ed7ec778-e06e-451e-a2dc-3029cccebce6"
      },
      "execution_count": null,
      "outputs": [
        {
          "output_type": "display_data",
          "data": {
            "text/plain": [
              "<Figure size 432x288 with 1 Axes>"
            ],
            "image/png": "[encoded data removed]"
          },
          "metadata": {
            "needs_background": "light"
          }
        }
      ]
    },
    {
      "cell_type": "markdown",
      "metadata": {
        "collapsed": false,
        "id": "SAUlD1ypU8GL"
      },
      "source": [
        "<h3>Test</h3>\n",
        "Test your model (Show accuracy by comparing the prediction VS the test label)"
      ]
    },
    {
      "cell_type": "code",
      "execution_count": null,
      "metadata": {
        "colab": {
          "base_uri": "https://localhost:8080/"
        },
        "id": "rukB7UefU8GL",
        "outputId": "ca661c13-35f7-4e69-be48-d9e30b85aedc"
      },
      "outputs": [
        {
          "output_type": "stream",
          "name": "stdout",
          "text": [
            "test accuracy: 0.997\n"
          ]
        }
      ],
      "source": [
        "predicted_y = model.predict(torch_test_x)\n",
        "print(\"test accuracy:\", accuracy_score(torch_test_y,predicted_y))"
      ]
    },
    {
      "cell_type": "markdown",
      "metadata": {
        "collapsed": false,
        "id": "ClevveJ3U8GL"
      },
      "source": [
        "### Model Evaluation\n",
        "Show the model evaluation by presenting the confusion metrix in a representative way<br>\n",
        "Read about confusion metrix visualization here: https://scikit-learn.org/stable/auto_examples/model_selection/plot_confusion_matrix.html"
      ]
    },
    {
      "cell_type": "markdown",
      "metadata": {
        "id": "NkR1epYWfoUG"
      },
      "source": [
        "Confusion Matrix\n"
      ]
    },
    {
      "cell_type": "code",
      "execution_count": null,
      "metadata": {
        "id": "KHQVaRZKU8GL",
        "colab": {
          "base_uri": "https://localhost:8080/",
          "height": 279
        },
        "outputId": "c0c5497f-7665-4bfe-f339-e6b8299b6516"
      },
      "outputs": [
        {
          "output_type": "display_data",
          "data": {
            "text/plain": [
              "<Figure size 432x288 with 2 Axes>"
            ],
            "image/png": "[encoded data removed]"
          },
          "metadata": {
            "needs_background": "light"
          }
        }
      ],
      "source": [
        "cm = confusion_matrix(torch_test_y, predicted_y)\n",
        "disp = ConfusionMatrixDisplay(confusion_matrix=cm)\n",
        "disp.plot()\n",
        "plt.show()"
      ]
    },
    {
      "cell_type": "markdown",
      "metadata": {
        "id": "xCvQEguLfsqr"
      },
      "source": [
        "Classification Report"
      ]
    },
    {
      "cell_type": "code",
      "execution_count": null,
      "metadata": {
        "id": "hYFanjNVa8NO",
        "colab": {
          "base_uri": "https://localhost:8080/"
        },
        "outputId": "ed116630-5a01-4f86-f2f9-a15bb816fb89"
      },
      "outputs": [
        {
          "output_type": "stream",
          "name": "stdout",
          "text": [
            "              precision    recall  f1-score   support\n",
            "\n",
            "           2       1.00      1.00      1.00      1000\n",
            "           5       1.00      1.00      1.00      1000\n",
            "\n",
            "    accuracy                           1.00      2000\n",
            "   macro avg       1.00      1.00      1.00      2000\n",
            "weighted avg       1.00      1.00      1.00      2000\n",
            "\n"
          ]
        }
      ],
      "source": [
        "labels = ['2','5']\n",
        "report = classification_report(filtered_test_y, predicted_y, target_names=labels)\n",
        "print(report)"
      ]
    },
    {
      "cell_type": "markdown",
      "metadata": {
        "id": "s6_ug9JLjmM8"
      },
      "source": [
        "---\n",
        "<br>\n",
        "\n",
        "\n",
        "# Neural Network with Pytorch part 2 (Multiclass Classification)"
      ]
    },
    {
      "cell_type": "markdown",
      "metadata": {
        "id": "yZFzsuo_Nhyt"
      },
      "source": [
        "## Data preprocessing"
      ]
    },
    {
      "cell_type": "markdown",
      "metadata": {
        "id": "pcLzuIa3kOQ_"
      },
      "source": [
        "Load Dataset"
      ]
    },
    {
      "cell_type": "code",
      "execution_count": null,
      "metadata": {
        "id": "ZW8YzARzxz9A",
        "colab": {
          "base_uri": "https://localhost:8080/",
          "height": 426
        },
        "outputId": "5fa68840-2d95-4bf9-ce2f-cf02e8c55afa"
      },
      "outputs": [
        {
          "output_type": "stream",
          "name": "stdout",
          "text": [
            "Downloading data from https://storage.googleapis.com/tensorflow/tf-keras-datasets/train-labels-idx1-ubyte.gz\n",
            "29515/29515 [==============================] - 0s 0us/step\n",
            "Downloading data from https://storage.googleapis.com/tensorflow/tf-keras-datasets/train-images-idx3-ubyte.gz\n",
            "26421880/26421880 [==============================] - 0s 0us/step\n",
            "Downloading data from https://storage.googleapis.com/tensorflow/tf-keras-datasets/t10k-labels-idx1-ubyte.gz\n",
            "5148/5148 [==============================] - 0s 0us/step\n",
            "Downloading data from https://storage.googleapis.com/tensorflow/tf-keras-datasets/t10k-images-idx3-ubyte.gz\n",
            "4422102/4422102 [==============================] - 0s 0us/step\n",
            "(28, 28)\n"
          ]
        },
        {
          "output_type": "display_data",
          "data": {
            "text/plain": [
              "<Figure size 432x288 with 1 Axes>"
            ],
            "image/png": "[encoded data removed]"
          },
          "metadata": {
            "needs_background": "light"
          }
        }
      ],
      "source": [
        "fashion_mnist = keras.datasets.fashion_mnist\n",
        "(X_train, y_train), (X_test, y_test) = fashion_mnist.load_data()\n",
        "print(X_test[1].shape)\n",
        "plt.imshow(X_test[1], cmap='gray')\n",
        "plt.show()"
      ]
    },
    {
      "cell_type": "markdown",
      "metadata": {
        "id": "dOT8MMvTM_Dr"
      },
      "source": [
        "Normalize The Data - Feature scaling"
      ]
    },
    {
      "cell_type": "code",
      "execution_count": null,
      "metadata": {
        "id": "QKbtnDOrNEJp"
      },
      "outputs": [],
      "source": [
        "X_train = X_train/255.0\n",
        "X_test = X_test/255.0"
      ]
    },
    {
      "cell_type": "markdown",
      "metadata": {
        "id": "SSOkp-X9Z1ho"
      },
      "source": [
        "Split the data into train, vaildation, test sets"
      ]
    },
    {
      "cell_type": "code",
      "execution_count": null,
      "metadata": {
        "id": "Cqf4x4K0Z5iB"
      },
      "outputs": [],
      "source": [
        "# splitting the train set to validation as well since its already split into train-test\n",
        "train_x, validation_x, train_y, validation_y = train_test_split(X_train, y_train, test_size=0.25, random_state=42)"
      ]
    },
    {
      "cell_type": "code",
      "execution_count": null,
      "metadata": {
        "id": "EwR-7oedBdvn"
      },
      "outputs": [],
      "source": [
        "class MyDataset(data.Dataset):\n",
        "  def __init__(self,X,Y):\n",
        "    self.X = X\n",
        "    self.Y = Y\n",
        "  def __len__(self):\n",
        "    return len(self.Y)\n",
        "  def __getitem__(self,index):\n",
        "    X = self.X[index].float().reshape(-1)\n",
        "    Y = self.Y[index].long()\n",
        "    return X,Y"
      ]
    },
    {
      "cell_type": "markdown",
      "metadata": {
        "id": "kScPYO28NCKs"
      },
      "source": [
        "### Prepare the data"
      ]
    },
    {
      "cell_type": "code",
      "execution_count": null,
      "metadata": {
        "id": "84Z8J0U0N7u0",
        "colab": {
          "base_uri": "https://localhost:8080/"
        },
        "outputId": "1d5601ed-c81a-4252-b2ec-b1202970d24f"
      },
      "outputs": [
        {
          "output_type": "stream",
          "name": "stderr",
          "text": [
            "<ipython-input-6-a25e01e5af9c>:9: UserWarning: The given NumPy array is not writable, and PyTorch does not support non-writable tensors. This means writing to this tensor will result in undefined behavior. You may want to copy the array to protect its data or make it writable before converting it to a tensor. This type of warning will be suppressed for the rest of this program. (Triggered internally at ../torch/csrc/utils/tensor_numpy.cpp:199.)\n",
            "  test_dataset = MyDataset(torch.from_numpy(X_test).float(),torch.from_numpy(y_test))\n"
          ]
        }
      ],
      "source": [
        "train_dataset = MyDataset(torch.from_numpy(train_x).float(),torch.from_numpy(train_y))\n",
        "train_loader_args = dict(shuffle = True,batch_size = 256, num_workers = 0)\n",
        "train_loader = DataLoader(train_dataset, **train_loader_args)\n",
        "\n",
        "validation_dataset = MyDataset(torch.from_numpy(validation_x).float(),torch.from_numpy(validation_y))\n",
        "validation_loader_args = dict(shuffle = True,batch_size = 256, num_workers = 0)\n",
        "validation_loader = DataLoader(validation_dataset, **validation_loader_args)\n",
        "\n",
        "test_dataset = MyDataset(torch.from_numpy(X_test).float(),torch.from_numpy(y_test))\n",
        "test_loader_args = dict(shuffle = True,batch_size = 256, num_workers = 0)\n",
        "test_loader = DataLoader(test_dataset, **test_loader_args)"
      ]
    },
    {
      "cell_type": "markdown",
      "metadata": {
        "id": "Zcr6QaXFkmI4"
      },
      "source": [
        "<h3>The Neural Network</h3>"
      ]
    },
    {
      "cell_type": "code",
      "execution_count": null,
      "metadata": {
        "id": "k1cm-4_bkLHn"
      },
      "outputs": [],
      "source": [
        "class NeuralNetwork(nn.Module):\n",
        "  def __init__(self,layer_list):\n",
        "    super(NeuralNetwork,self).__init__()\n",
        "    layers = []\n",
        "    self.layer_list = layer_list\n",
        "    for i in range(len(layer_list)-2):\n",
        "        layers.append(nn.Linear(layer_list[i],layer_list[i+1]))\n",
        "        layers.append(nn.ReLU())\n",
        "    layers.append(nn.Linear(layer_list[-2],layer_list[-1]))\n",
        "    self.net = nn.Sequential(*layers)\n",
        "\n",
        "  def forward(self, x):\n",
        "    return self.net(x)\n",
        "\n",
        "  def predict(self, data):\n",
        "    data = data.to(device)\n",
        "    model = self\n",
        "    return model(data.reshape(-1)).argmax().item()\n",
        "\n",
        "  def predictAll(self, data):\n",
        "    predictions = []\n",
        "    data = data.to(device)\n",
        "    model = self\n",
        "    for i in range(len(data)):\n",
        "      predictions.append(model(data[i].reshape(-1)).argmax().item())\n",
        "    return predictions"
      ]
    },
    {
      "cell_type": "markdown",
      "metadata": {
        "id": "ykpLhLpHqOjJ"
      },
      "source": [
        "### Epoch Helper Functions"
      ]
    },
    {
      "cell_type": "markdown",
      "metadata": {
        "id": "HxbgY1GqP0FM"
      },
      "source": [
        "Train Epoch"
      ]
    },
    {
      "cell_type": "code",
      "execution_count": null,
      "metadata": {
        "id": "mAyjPz4ijxuV"
      },
      "outputs": [],
      "source": [
        "def train_part2(model,train_loader,criterion,optimizer):\n",
        "    model.train()\n",
        "    model.to(device)\n",
        "    running_loss = 0.0\n",
        "    correct_values = 0.0\n",
        "    for batch_idx,(data,target) in enumerate(train_loader):\n",
        "        optimizer.zero_grad()\n",
        "        data = data.to(device)\n",
        "        target = target.to(device)\n",
        "        outputs = model(data)\n",
        "        loss = criterion(outputs,target)\n",
        "        running_loss += loss.item()\n",
        "\n",
        "        loss.backward()\n",
        "        optimizer.step()\n",
        "\n",
        "        _,predicted = torch.max(outputs.data,1)\n",
        "        correct_values += (predicted==target).sum().item()\n",
        "\n",
        "    running_loss /= len(train_loader)\n",
        "    correct_values = correct_values/(len(train_loader.dataset.Y))*100\n",
        "    return running_loss,correct_values\n"
      ]
    },
    {
      "cell_type": "markdown",
      "metadata": {
        "id": "k7p9i9mSpNVm"
      },
      "source": [
        "Validation Epoch"
      ]
    },
    {
      "cell_type": "code",
      "execution_count": null,
      "metadata": {
        "id": "Z5PjYSVxn4GS"
      },
      "outputs": [],
      "source": [
        "def validation(model,data_loader,criterion):\n",
        "  with torch.no_grad():\n",
        "    model.eval()\n",
        "    model.to(device)\n",
        "    running_loss = 0.0\n",
        "    accuracy = 0\n",
        "    for batch_idx,(data,target) in enumerate(data_loader):\n",
        "      data = data.to(device)\n",
        "      target = target.to(device)\n",
        "      outputs = model(data)\n",
        "      _,predicted = torch.max(outputs.data,1)\n",
        "\n",
        "      loss = criterion(outputs,target).detach()\n",
        "      running_loss += loss.item()\n",
        "\n",
        "      accuracy += (predicted==target).sum().item()\n",
        "\n",
        "    running_loss /= len(data_loader)\n",
        "    acc = (accuracy/len(data_loader.dataset.Y))*100.0\n",
        "    return running_loss,acc"
      ]
    },
    {
      "cell_type": "code",
      "execution_count": null,
      "metadata": {
        "id": "AWjsfpmlR4DM"
      },
      "outputs": [],
      "source": [
        "def compare(graph1,graph2,label):\n",
        "  plt.plot(graph1,color='b',label='train'),plt.plot(graph2,color='r',label='val')\n",
        "  plt.xlabel('epochs')\n",
        "  plt.ylabel(label)\n",
        "  plt.legend()"
      ]
    },
    {
      "cell_type": "markdown",
      "metadata": {
        "id": "xMTvB9TolhcG"
      },
      "source": [
        "## Models"
      ]
    },
    {
      "cell_type": "markdown",
      "metadata": {
        "id": "3BpcSL3MPcoD"
      },
      "source": [
        "### Base Model"
      ]
    },
    {
      "cell_type": "code",
      "execution_count": null,
      "metadata": {
        "colab": {
          "base_uri": "https://localhost:8080/"
        },
        "id": "LsS6mvSBPi9b",
        "outputId": "9d1cf970-1824-4d27-8029-3110e566e1f6"
      },
      "outputs": [
        {
          "output_type": "stream",
          "name": "stdout",
          "text": [
            "NeuralNetwork(\n",
            "  (net): Sequential(\n",
            "    (0): Linear(in_features=784, out_features=10, bias=True)\n",
            "  )\n",
            ")\n"
          ]
        }
      ],
      "source": [
        "# simple 784 neurons (the size of the pictures = 28x28) to 10 neurons (classification = 10 classes)\n",
        "base = NeuralNetwork([784,10]).to(device)\n",
        "print(base)"
      ]
    },
    {
      "cell_type": "markdown",
      "metadata": {
        "id": "9MvRhItqZMNN"
      },
      "source": [
        "Loss Function"
      ]
    },
    {
      "cell_type": "code",
      "execution_count": null,
      "metadata": {
        "id": "Zy9tAd0MZOKA"
      },
      "outputs": [],
      "source": [
        "loss = nn.CrossEntropyLoss()"
      ]
    },
    {
      "cell_type": "markdown",
      "metadata": {
        "id": "6wCKb2kMZGdQ"
      },
      "source": [
        "Optimizer"
      ]
    },
    {
      "cell_type": "code",
      "execution_count": null,
      "metadata": {
        "id": "FfYoMOuHZIqA"
      },
      "outputs": [],
      "source": [
        "optimizer = optim.SGD(base.parameters(), lr= 0.01)"
      ]
    },
    {
      "cell_type": "markdown",
      "metadata": {
        "id": "iqF3fkF7qX16"
      },
      "source": [
        "#### Trainning Proccess"
      ]
    },
    {
      "cell_type": "code",
      "execution_count": null,
      "metadata": {
        "id": "p9ppS8K0P2q2"
      },
      "outputs": [],
      "source": [
        "numner_of_epochs = 15\n",
        "\n",
        "train_loss=[]\n",
        "train_acc=[]\n",
        "validation_loss=[]\n",
        "validation_acc=[]\n",
        "\n",
        "for epoch in range(numner_of_epochs):\n",
        "  base_loss, base_acc = train_part2(base,train_loader,loss,optimizer)\n",
        "  train_loss.append(base_loss)\n",
        "  train_acc.append(base_acc)\n",
        "\n",
        "  base_validation_loss, base_validation_acc = validation(base,validation_loader,loss)\n",
        "  validation_loss.append(base_validation_loss)\n",
        "  validation_acc.append(base_validation_acc)"
      ]
    },
    {
      "cell_type": "code",
      "execution_count": null,
      "metadata": {
        "colab": {
          "base_uri": "https://localhost:8080/"
        },
        "id": "OYsgdiwqmBVo",
        "outputId": "fc71622c-87f9-4be9-e0e5-1fbafba3ba4a"
      },
      "outputs": [
        {
          "output_type": "stream",
          "name": "stdout",
          "text": [
            "[1.466832468455488, 0.9873293834653768, 0.8581572517075322, 0.7906184396283193, 0.7465657828883692, 0.714479039338502, 0.6895699846473607, 0.6696150973439217, 0.653086228465492, 0.6387853178788315, 0.6266529715873979, 0.6159517531367865, 0.6067641223357483, 0.5980520368638363, 0.5905777803537521]\n",
            "[61.89555555555556, 69.86, 73.09777777777778, 75.07555555555555, 76.50222222222223, 77.51333333333334, 78.15777777777778, 78.87777777777778, 79.35333333333332, 79.81333333333333, 80.09111111111112, 80.37111111111112, 80.56, 80.84222222222223, 81.07111111111112]\n"
          ]
        }
      ],
      "source": [
        "print(train_loss)\n",
        "print(train_acc)"
      ]
    },
    {
      "cell_type": "markdown",
      "metadata": {
        "id": "YmX3PJvyqe_Y"
      },
      "source": [
        "#### Train & Validation set Comparison"
      ]
    },
    {
      "cell_type": "markdown",
      "metadata": {
        "id": "2XYoi0uPPNxg"
      },
      "source": [
        "Loss Comparison"
      ]
    },
    {
      "cell_type": "code",
      "execution_count": null,
      "metadata": {
        "colab": {
          "base_uri": "https://localhost:8080/",
          "height": 279
        },
        "id": "0H8QHisKPXZD",
        "outputId": "c1c8a0cc-5bf2-4ffd-88e7-4d4e270878f0"
      },
      "outputs": [
        {
          "output_type": "display_data",
          "data": {
            "text/plain": [
              "<Figure size 432x288 with 1 Axes>"
            ],
            "image/png": "[encoded data removed]"
          },
          "metadata": {
            "needs_background": "light"
          }
        }
      ],
      "source": [
        "compare(train_loss,validation_loss,'loss')"
      ]
    },
    {
      "cell_type": "markdown",
      "metadata": {
        "id": "ug_J2hZlQrRh"
      },
      "source": [
        "Accuracy Comparison"
      ]
    },
    {
      "cell_type": "code",
      "execution_count": null,
      "metadata": {
        "colab": {
          "base_uri": "https://localhost:8080/",
          "height": 279
        },
        "id": "DaAYMaX8QpC3",
        "outputId": "0f876575-2392-45aa-d424-3624dbfa707f"
      },
      "outputs": [
        {
          "output_type": "display_data",
          "data": {
            "text/plain": [
              "<Figure size 432x288 with 1 Axes>"
            ],
            "image/png": "[encoded data removed]"
          },
          "metadata": {
            "needs_background": "light"
          }
        }
      ],
      "source": [
        "compare(train_acc,validation_acc,'accuracy')"
      ]
    },
    {
      "cell_type": "markdown",
      "metadata": {
        "id": "DMN5_4AMQ3aU"
      },
      "source": [
        "<h3>Test</h3>"
      ]
    },
    {
      "cell_type": "code",
      "execution_count": null,
      "metadata": {
        "id": "H_6aF892Q5TS"
      },
      "outputs": [],
      "source": [
        "y_pred = base.predictAll(torch.from_numpy(X_test).float())"
      ]
    },
    {
      "cell_type": "markdown",
      "metadata": {
        "id": "Y4utQhYDYMfA"
      },
      "source": [
        "#### Model Evaluation"
      ]
    },
    {
      "cell_type": "code",
      "execution_count": null,
      "metadata": {
        "colab": {
          "base_uri": "https://localhost:8080/"
        },
        "id": "QbdOOdgJY7s3",
        "outputId": "3eb73d13-a222-43c9-fc13-7927d02854ea"
      },
      "outputs": [
        {
          "output_type": "stream",
          "name": "stdout",
          "text": [
            "base model accuracy: 0.799\n"
          ]
        }
      ],
      "source": [
        "print(\"base model accuracy:\", accuracy_score(test_dataset.Y.tolist(),y_pred))"
      ]
    },
    {
      "cell_type": "code",
      "execution_count": null,
      "metadata": {
        "colab": {
          "base_uri": "https://localhost:8080/"
        },
        "id": "qXAynBTEaDxa",
        "outputId": "b1ad8c6f-f62e-4c14-bb98-d757f1bd829a"
      },
      "outputs": [
        {
          "output_type": "stream",
          "name": "stdout",
          "text": [
            "              precision    recall  f1-score   support\n",
            "\n",
            "           0       0.77      0.79      0.78      1000\n",
            "           1       0.97      0.93      0.95      1000\n",
            "           2       0.69      0.69      0.69      1000\n",
            "           3       0.79      0.85      0.82      1000\n",
            "           4       0.67      0.77      0.72      1000\n",
            "           5       0.95      0.77      0.85      1000\n",
            "           6       0.58      0.45      0.50      1000\n",
            "           7       0.82      0.89      0.85      1000\n",
            "           8       0.89      0.93      0.91      1000\n",
            "           9       0.85      0.94      0.89      1000\n",
            "\n",
            "    accuracy                           0.80     10000\n",
            "   macro avg       0.80      0.80      0.80     10000\n",
            "weighted avg       0.80      0.80      0.80     10000\n",
            "\n"
          ]
        }
      ],
      "source": [
        "target_names = [str(i) for i in range(10)]\n",
        "print(classification_report(y_test, y_pred, target_names=target_names))"
      ]
    },
    {
      "cell_type": "markdown",
      "metadata": {
        "id": "eKieQwhOlA3m"
      },
      "source": [
        "### Experiment #1"
      ]
    },
    {
      "cell_type": "code",
      "execution_count": null,
      "metadata": {
        "id": "lt6kO7_2YKeg",
        "colab": {
          "base_uri": "https://localhost:8080/"
        },
        "outputId": "1a5c1bc7-a30c-4fca-d776-2b6b877b6a89"
      },
      "outputs": [
        {
          "output_type": "stream",
          "name": "stdout",
          "text": [
            "NeuralNetwork(\n",
            "  (net): Sequential(\n",
            "    (0): Linear(in_features=784, out_features=256, bias=True)\n",
            "    (1): ReLU()\n",
            "    (2): Linear(in_features=256, out_features=10, bias=True)\n",
            "  )\n",
            ")\n"
          ]
        }
      ],
      "source": [
        "ex1 = NeuralNetwork([784,256,10]).to(device)\n",
        "print(ex1)"
      ]
    },
    {
      "cell_type": "markdown",
      "metadata": {
        "id": "E5e_ywK6ZS-I"
      },
      "source": [
        "Loss Function"
      ]
    },
    {
      "cell_type": "code",
      "execution_count": null,
      "metadata": {
        "id": "iXC0jSi1ZUrZ"
      },
      "outputs": [],
      "source": [
        "loss = nn.CrossEntropyLoss()"
      ]
    },
    {
      "cell_type": "markdown",
      "metadata": {
        "id": "MkgdTSV1sSC1"
      },
      "source": [
        "Optimizer"
      ]
    },
    {
      "cell_type": "code",
      "execution_count": null,
      "metadata": {
        "id": "ZQDcILIisMq8"
      },
      "outputs": [],
      "source": [
        "optimizer = optim.SGD(ex1.parameters(), lr= 0.01)"
      ]
    },
    {
      "cell_type": "markdown",
      "metadata": {
        "id": "DBgCiwblYYDV"
      },
      "source": [
        "#### Trainning Proccess"
      ]
    },
    {
      "cell_type": "code",
      "execution_count": null,
      "metadata": {
        "id": "O_ieLTX1YcXY"
      },
      "outputs": [],
      "source": [
        "numner_of_epochs = 15\n",
        "\n",
        "train_loss=[]\n",
        "train_acc=[]\n",
        "validation_loss=[]\n",
        "validation_acc=[]\n",
        "\n",
        "for epoch in range(numner_of_epochs):\n",
        "  ex1_loss, ex1_acc = train_part2(ex1,train_loader,loss,optimizer)\n",
        "  train_loss.append(ex1_loss)\n",
        "  train_acc.append(ex1_acc)\n",
        "\n",
        "  ex1_validation_loss, ex1_validation_acc = validation(ex1,validation_loader,loss)\n",
        "  validation_loss.append(ex1_validation_loss)\n",
        "  validation_acc.append(ex1_validation_acc)"
      ]
    },
    {
      "cell_type": "code",
      "source": [
        "print(train_loss)\n",
        "print(train_acc)"
      ],
      "metadata": {
        "id": "GimQjf89b4Vh",
        "colab": {
          "base_uri": "https://localhost:8080/"
        },
        "outputId": "14e95df6-c83f-4d8b-c1a7-96a0473e0c93"
      },
      "execution_count": null,
      "outputs": [
        {
          "output_type": "stream",
          "name": "stdout",
          "text": [
            "[1.8710765608332374, 1.2290151105685667, 0.965127223933285, 0.8457933979278262, 0.7764433666386388, 0.7284201278605245, 0.6911057000133124, 0.6613629646599293, 0.6365289945494045, 0.6160227707163854, 0.5978161680766128, 0.5823742085221139, 0.5693579128181393, 0.5574456392364069, 0.5473893532021479]\n",
            "[52.22444444444444, 66.07777777777778, 68.35111111111111, 71.36888888888889, 73.63111111111111, 75.60666666666667, 77.06, 78.08444444444444, 78.94222222222223, 79.69333333333334, 80.22888888888889, 80.71777777777778, 81.10888888888888, 81.50444444444445, 81.7511111111111]\n"
          ]
        }
      ]
    },
    {
      "cell_type": "markdown",
      "metadata": {
        "id": "S4KmrkVpTsYu"
      },
      "source": [
        "#### Train & Validation set Comparison"
      ]
    },
    {
      "cell_type": "markdown",
      "metadata": {
        "id": "4AxMaKVU7KS8"
      },
      "source": [
        "Loss Comparison"
      ]
    },
    {
      "cell_type": "code",
      "execution_count": null,
      "metadata": {
        "id": "I5XcGEbTTu5o",
        "colab": {
          "base_uri": "https://localhost:8080/",
          "height": 279
        },
        "outputId": "484a9df6-66ad-4a34-b64d-706a0a905a7b"
      },
      "outputs": [
        {
          "output_type": "display_data",
          "data": {
            "text/plain": [
              "<Figure size 432x288 with 1 Axes>"
            ],
            "image/png": "[encoded data removed]"
          },
          "metadata": {
            "needs_background": "light"
          }
        }
      ],
      "source": [
        "compare(train_loss,validation_loss,'loss')"
      ]
    },
    {
      "cell_type": "markdown",
      "metadata": {
        "id": "1lf8hBwtTxZN"
      },
      "source": [
        "Accuracy Comparison"
      ]
    },
    {
      "cell_type": "code",
      "execution_count": null,
      "metadata": {
        "id": "Cis6Lv8vT0bv",
        "colab": {
          "base_uri": "https://localhost:8080/",
          "height": 279
        },
        "outputId": "21bac83b-9263-4e90-d7e8-bbe8a5c52b3e"
      },
      "outputs": [
        {
          "output_type": "display_data",
          "data": {
            "text/plain": [
              "<Figure size 432x288 with 1 Axes>"
            ],
            "image/png": "[encoded data removed]"
          },
          "metadata": {
            "needs_background": "light"
          }
        }
      ],
      "source": [
        "compare(train_acc,validation_acc,'accuracy')"
      ]
    },
    {
      "cell_type": "markdown",
      "metadata": {
        "id": "LjSFWk9TXuvR"
      },
      "source": [
        "Test"
      ]
    },
    {
      "cell_type": "code",
      "execution_count": null,
      "metadata": {
        "id": "jsKq6zcxXt4Y"
      },
      "outputs": [],
      "source": [
        "y_pred = ex1.predictAll(torch.from_numpy(X_test).float())"
      ]
    },
    {
      "cell_type": "markdown",
      "metadata": {
        "id": "z8G6hnLtW_q2"
      },
      "source": [
        "#### Model Evaluation"
      ]
    },
    {
      "cell_type": "code",
      "execution_count": null,
      "metadata": {
        "id": "Su_KEaL0ZA05",
        "colab": {
          "base_uri": "https://localhost:8080/"
        },
        "outputId": "64ff4ae8-70c2-4ee5-f266-3a57f85e6546"
      },
      "outputs": [
        {
          "output_type": "stream",
          "name": "stdout",
          "text": [
            "experiment 1 accuracy: 0.8042\n"
          ]
        }
      ],
      "source": [
        "print(\"experiment 1 accuracy:\", accuracy_score(test_dataset.Y.tolist(),y_pred))"
      ]
    },
    {
      "cell_type": "code",
      "execution_count": null,
      "metadata": {
        "id": "-a8-is0KbCJK",
        "colab": {
          "base_uri": "https://localhost:8080/"
        },
        "outputId": "673d9c29-216c-4b3f-c56f-5c397f83a11e"
      },
      "outputs": [
        {
          "output_type": "stream",
          "name": "stdout",
          "text": [
            "              precision    recall  f1-score   support\n",
            "\n",
            "           0       0.78      0.79      0.78      1000\n",
            "           1       0.97      0.93      0.95      1000\n",
            "           2       0.68      0.71      0.70      1000\n",
            "           3       0.78      0.86      0.82      1000\n",
            "           4       0.68      0.75      0.71      1000\n",
            "           5       0.93      0.82      0.87      1000\n",
            "           6       0.59      0.43      0.50      1000\n",
            "           7       0.84      0.88      0.86      1000\n",
            "           8       0.91      0.94      0.92      1000\n",
            "           9       0.86      0.94      0.90      1000\n",
            "\n",
            "    accuracy                           0.80     10000\n",
            "   macro avg       0.80      0.80      0.80     10000\n",
            "weighted avg       0.80      0.80      0.80     10000\n",
            "\n"
          ]
        }
      ],
      "source": [
        "target_names = [str(i) for i in range(10)]\n",
        "print(classification_report(y_test, y_pred, target_names=target_names))"
      ]
    },
    {
      "cell_type": "markdown",
      "metadata": {
        "id": "SK-L3P-XlDSQ"
      },
      "source": [
        "### Experiment #2"
      ]
    },
    {
      "cell_type": "code",
      "execution_count": null,
      "metadata": {
        "colab": {
          "base_uri": "https://localhost:8080/"
        },
        "id": "2pmdSP8MwYRJ",
        "outputId": "48424d60-ad6d-41ac-ea74-cb19e712ec88"
      },
      "outputs": [
        {
          "output_type": "stream",
          "name": "stdout",
          "text": [
            "NeuralNetwork(\n",
            "  (net): Sequential(\n",
            "    (0): Linear(in_features=784, out_features=10, bias=True)\n",
            "  )\n",
            ")\n"
          ]
        }
      ],
      "source": [
        "ex2 = NeuralNetwork([784,10]).to(device)\n",
        "print(ex2)"
      ]
    },
    {
      "cell_type": "markdown",
      "metadata": {
        "id": "gfKCitODCEbs"
      },
      "source": [
        "Loss Function"
      ]
    },
    {
      "cell_type": "code",
      "execution_count": null,
      "metadata": {
        "id": "ZEquPJC-B8Cw"
      },
      "outputs": [],
      "source": [
        "loss = nn.CrossEntropyLoss()"
      ]
    },
    {
      "cell_type": "markdown",
      "metadata": {
        "id": "n_wW2t1ruTHL"
      },
      "source": [
        "Optimizer"
      ]
    },
    {
      "cell_type": "code",
      "execution_count": null,
      "metadata": {
        "id": "Y7UQfvnPuRbG"
      },
      "outputs": [],
      "source": [
        "optimizer = optim.Adam(ex2.parameters())"
      ]
    },
    {
      "cell_type": "markdown",
      "metadata": {
        "id": "hbBrmH2uxW9l"
      },
      "source": [
        "Changing batch size"
      ]
    },
    {
      "cell_type": "code",
      "execution_count": null,
      "metadata": {
        "id": "jsMU-9Brxbh8"
      },
      "outputs": [],
      "source": [
        "train_dataset = MyDataset(torch.from_numpy(train_x).float(),torch.from_numpy(train_y))\n",
        "train_loader_args = dict(shuffle = True,batch_size = 96, num_workers = 0)\n",
        "train_loader = DataLoader(train_dataset, **train_loader_args)\n",
        "\n",
        "validation_dataset = MyDataset(torch.from_numpy(validation_x).float(),torch.from_numpy(validation_y))\n",
        "validation_loader_args = dict(shuffle = True,batch_size = 96, num_workers = 0)\n",
        "validation_loader = DataLoader(validation_dataset, **validation_loader_args)\n",
        "\n",
        "test_dataset = MyDataset(torch.from_numpy(X_test).float(),torch.from_numpy(y_test))\n",
        "test_loader_args = dict(shuffle = True,batch_size = 96, num_workers = 0)\n",
        "test_loader = DataLoader(test_dataset, **test_loader_args)"
      ]
    },
    {
      "cell_type": "markdown",
      "metadata": {
        "id": "yu76PLhawo-R"
      },
      "source": [
        "####Trainning Proccess"
      ]
    },
    {
      "cell_type": "code",
      "execution_count": null,
      "metadata": {
        "id": "cZDmNPzkwgZe"
      },
      "outputs": [],
      "source": [
        "numner_of_epochs = 7\n",
        "\n",
        "train_loss=[]\n",
        "train_acc=[]\n",
        "validation_loss=[]\n",
        "validation_acc=[]\n",
        "\n",
        "for epoch in range(numner_of_epochs):\n",
        "  ex2_loss, ex2_acc = train_part2(ex2,train_loader,loss,optimizer)\n",
        "  train_loss.append(ex2_loss)\n",
        "  train_acc.append(ex2_acc)\n",
        "\n",
        "  ex2_valid_loss, ex2_valid_acc = validation(ex2,validation_loader,loss)\n",
        "  validation_loss.append(ex2_valid_loss)\n",
        "  validation_acc.append(ex2_valid_acc)"
      ]
    },
    {
      "cell_type": "code",
      "execution_count": null,
      "metadata": {
        "colab": {
          "base_uri": "https://localhost:8080/"
        },
        "id": "lE1R-dftyx5A",
        "outputId": "8c54b55e-aa2c-4302-c4d9-2a643ec9b1ef"
      },
      "outputs": [
        {
          "output_type": "stream",
          "name": "stdout",
          "text": [
            "[0.734896283731786, 0.5188809706966506, 0.476399292251957, 0.4552652919089108, 0.44085394262250804, 0.42959773289496456, 0.4216701306386797]\n",
            "[75.92, 82.74444444444444, 83.94666666666667, 84.60666666666667, 85.10444444444445, 85.3711111111111, 85.51777777777778]\n"
          ]
        }
      ],
      "source": [
        "print(train_loss)\n",
        "print(train_acc)"
      ]
    },
    {
      "cell_type": "markdown",
      "metadata": {
        "id": "MJiG-deZUTUI"
      },
      "source": [
        "#### Train & Validation set Comparison"
      ]
    },
    {
      "cell_type": "markdown",
      "metadata": {
        "id": "u-v9CfKM7P08"
      },
      "source": [
        "Loss Comparison"
      ]
    },
    {
      "cell_type": "code",
      "execution_count": null,
      "metadata": {
        "colab": {
          "base_uri": "https://localhost:8080/",
          "height": 283
        },
        "id": "7RQdJufCUT5h",
        "outputId": "e9f33d95-e3a2-441e-dc4b-a7b65f27653c"
      },
      "outputs": [
        {
          "output_type": "display_data",
          "data": {
            "text/plain": [
              "<Figure size 432x288 with 1 Axes>"
            ],
            "image/png": "[encoded data removed]"
          },
          "metadata": {
            "needs_background": "light"
          }
        }
      ],
      "source": [
        "compare(train_loss,validation_loss,'loss')"
      ]
    },
    {
      "cell_type": "markdown",
      "metadata": {
        "id": "WCLJIXwAUUZe"
      },
      "source": [
        "Accuracy Comparison"
      ]
    },
    {
      "cell_type": "code",
      "execution_count": null,
      "metadata": {
        "colab": {
          "base_uri": "https://localhost:8080/",
          "height": 279
        },
        "id": "DeLRc5JZUU0X",
        "outputId": "7b6bf02f-747f-487b-f68d-eff638b8ab8c"
      },
      "outputs": [
        {
          "output_type": "display_data",
          "data": {
            "text/plain": [
              "<Figure size 432x288 with 1 Axes>"
            ],
            "image/png": "[encoded data removed]"
          },
          "metadata": {
            "needs_background": "light"
          }
        }
      ],
      "source": [
        "compare(train_acc,validation_acc,'accuracy')"
      ]
    },
    {
      "cell_type": "markdown",
      "metadata": {
        "id": "R3xdhBAtYDyW"
      },
      "source": [
        "Test"
      ]
    },
    {
      "cell_type": "code",
      "execution_count": null,
      "metadata": {
        "id": "JbgIxpsqYFsb"
      },
      "outputs": [],
      "source": [
        "y_pred = ex2.predictAll(torch.from_numpy(X_test).float())"
      ]
    },
    {
      "cell_type": "markdown",
      "metadata": {
        "id": "OBNfpPT3RISc"
      },
      "source": [
        "#### Model Evaluation"
      ]
    },
    {
      "cell_type": "code",
      "execution_count": null,
      "metadata": {
        "colab": {
          "base_uri": "https://localhost:8080/"
        },
        "id": "dVVNYEYdZFqH",
        "outputId": "a4092529-5f38-45bc-ac71-0fc9c1a28509"
      },
      "outputs": [
        {
          "output_type": "stream",
          "name": "stdout",
          "text": [
            "experiment 2 accuracy: 0.8306\n"
          ]
        }
      ],
      "source": [
        "print(\"experiment 2 accuracy:\", accuracy_score(test_dataset.Y.tolist(),y_pred))"
      ]
    },
    {
      "cell_type": "code",
      "execution_count": null,
      "metadata": {
        "colab": {
          "base_uri": "https://localhost:8080/"
        },
        "id": "ftudm_anbEJP",
        "outputId": "3c8e9873-afd8-4c00-a70d-3cc93030dd6a"
      },
      "outputs": [
        {
          "output_type": "stream",
          "name": "stdout",
          "text": [
            "              precision    recall  f1-score   support\n",
            "\n",
            "           0       0.87      0.68      0.76      1000\n",
            "           1       0.98      0.95      0.96      1000\n",
            "           2       0.78      0.65      0.70      1000\n",
            "           3       0.82      0.87      0.84      1000\n",
            "           4       0.72      0.76      0.74      1000\n",
            "           5       0.95      0.90      0.93      1000\n",
            "           6       0.53      0.68      0.59      1000\n",
            "           7       0.90      0.93      0.92      1000\n",
            "           8       0.94      0.94      0.94      1000\n",
            "           9       0.93      0.95      0.94      1000\n",
            "\n",
            "    accuracy                           0.83     10000\n",
            "   macro avg       0.84      0.83      0.83     10000\n",
            "weighted avg       0.84      0.83      0.83     10000\n",
            "\n"
          ]
        }
      ],
      "source": [
        "target_names = [str(i) for i in range(10)]\n",
        "print(classification_report(y_test, y_pred, target_names=target_names))"
      ]
    },
    {
      "cell_type": "markdown",
      "metadata": {
        "id": "6IL1doy8QauT"
      },
      "source": [
        "### Save The Best Model"
      ]
    },
    {
      "cell_type": "code",
      "execution_count": null,
      "metadata": {
        "colab": {
          "base_uri": "https://localhost:8080/"
        },
        "id": "HWlyDB_nQeSK",
        "outputId": "05557aa7-35a9-438b-f17c-942ba682385f"
      },
      "outputs": [
        {
          "name": "stdout",
          "output_type": "stream",
          "text": [
            "skipping\n"
          ]
        }
      ],
      "source": [
        "%%script echo skipping\n",
        "PATH = \"/content/gdrive/My Drive/DL/Assignment 2/DL2_p2.pt\"\n",
        "torch.save(ex2.state_dict(), PATH)"
      ]
    },
    {
      "cell_type": "markdown",
      "metadata": {
        "id": "L0xlxiaj6xM4"
      },
      "source": [
        "# Test Environment (of part 2 only)\n",
        "This part is meant to show the tester how your model is performing. Keep in mind that the only cells he is going to run are the cells below.<br>\n",
        "(If there are libraries that need to be used please add their import. If there is a process that the data has to go through before it enters the model, don't forget to add it as well)."
      ]
    },
    {
      "cell_type": "markdown",
      "metadata": {
        "id": "-rMJ1ucy7lKB"
      },
      "source": [
        "### Load trained model"
      ]
    },
    {
      "cell_type": "markdown",
      "metadata": {
        "id": "O8W9kXLz9F8D"
      },
      "source": [
        "In order to load the model and use it:\n",
        "\n",
        "\n",
        "1.   run the imports section below\n",
        "2.   check that you have 'DL2_p2' in the notebook's files (thats the saved model of part 2)\n",
        "3.   run the code below\n",
        "\n"
      ]
    },
    {
      "cell_type": "code",
      "execution_count": null,
      "metadata": {
        "colab": {
          "base_uri": "https://localhost:8080/"
        },
        "id": "8DPJN2pK-ehy",
        "outputId": "4c151bf1-5462-42bf-ef4d-9f83d0da66d4"
      },
      "outputs": [
        {
          "output_type": "stream",
          "name": "stdout",
          "text": [
            "/usr/local/lib/python3.8/dist-packages/gdown/cli.py:127: FutureWarning: Option `--id` was deprecated in version 4.3.1 and will be removed in 5.0. You don't need to pass it anymore to use a file ID.\n",
            "  warnings.warn(\n",
            "Downloading...\n",
            "From: https://drive.google.com/uc?id=1eK_D8v71BPK_lSdc9du_M3xK9tGBcQO1\n",
            "To: /content/DL2_p2.pt\n",
            "100% 816k/816k [00:00<00:00, 149MB/s]\n",
            "/usr/local/lib/python3.8/dist-packages/gdown/cli.py:127: FutureWarning: Option `--id` was deprecated in version 4.3.1 and will be removed in 5.0. You don't need to pass it anymore to use a file ID.\n",
            "  warnings.warn(\n",
            "Downloading...\n",
            "From: https://drive.google.com/uc?id=1ZdoMtDy9Di0NH9EWIaAy1dwYaPqYsy2x\n",
            "To: /content/DL2_p1.pt\n",
            "100% 33.0k/33.0k [00:00<00:00, 51.2MB/s]\n",
            "/usr/local/lib/python3.8/dist-packages/gdown/cli.py:127: FutureWarning: Option `--id` was deprecated in version 4.3.1 and will be removed in 5.0. You don't need to pass it anymore to use a file ID.\n",
            "  warnings.warn(\n",
            "Downloading...\n",
            "From: https://drive.google.com/uc?id=1bl1RKHroQtmOr9KiL7IMRtcWSyqsNww2\n",
            "To: /content/explainer.md\n",
            "100% 1.51k/1.51k [00:00<00:00, 3.16MB/s]\n"
          ]
        }
      ],
      "source": [
        "import torch\n",
        "import numpy as np\n",
        "import torch.nn as nn\n",
        "import matplotlib.pyplot as plt\n",
        "from torch.utils import data\n",
        "from google.colab import drive\n",
        "\n",
        "!gdown --id 1eK_D8v71BPK_lSdc9du_M3xK9tGBcQO1\n",
        "!gdown --id 1ZdoMtDy9Di0NH9EWIaAy1dwYaPqYsy2x\n",
        "!gdown --id 1bl1RKHroQtmOr9KiL7IMRtcWSyqsNww2"
      ]
    },
    {
      "cell_type": "code",
      "execution_count": null,
      "metadata": {
        "id": "LvvvGpku3EaZ"
      },
      "outputs": [],
      "source": [
        "class NeuralNetwork(nn.Module):\n",
        "  def __init__(self,layer_list):\n",
        "    super(NeuralNetwork,self).__init__()\n",
        "    layers = []\n",
        "    self.layer_list = layer_list\n",
        "    for i in range(len(layer_list)-2):\n",
        "        layers.append(nn.Linear(layer_list[i],layer_list[i+1]))\n",
        "        layers.append(nn.ReLU())\n",
        "    layers.append(nn.Linear(layer_list[-2],layer_list[-1]))\n",
        "    self.net = nn.Sequential(*layers)\n",
        "\n",
        "  def forward(self, x):\n",
        "    return self.net(x)\n",
        "\n",
        "  def predict(self, data):\n",
        "    data = data.to(device)\n",
        "    model = self\n",
        "    return model(data.reshape(-1)).argmax().item()\n",
        "\n",
        "  def predictAll(self, data):\n",
        "    predictions = []\n",
        "    data = data.to(device)\n",
        "    model = self\n",
        "    for i in range(len(data)):\n",
        "      predictions.append(model(data[i].reshape(-1)).argmax().item())\n",
        "    return predictions"
      ]
    },
    {
      "cell_type": "code",
      "execution_count": null,
      "metadata": {
        "colab": {
          "base_uri": "https://localhost:8080/"
        },
        "id": "I27yHolJ7naT",
        "outputId": "d5137376-fd65-4356-ae01-5c7f5aae15b0"
      },
      "outputs": [
        {
          "output_type": "execute_result",
          "data": {
            "text/plain": [
              "NeuralNetwork(\n",
              "  (net): Sequential(\n",
              "    (0): Linear(in_features=784, out_features=256, bias=True)\n",
              "    (1): ReLU()\n",
              "    (2): Linear(in_features=256, out_features=10, bias=True)\n",
              "  )\n",
              ")"
            ]
          },
          "metadata": {},
          "execution_count": 29
        }
      ],
      "source": [
        "filename = \"DL2_p2.pt\"\n",
        "model = NeuralNetwork([784,256,10])\n",
        "model.load_state_dict(torch.load(filename))\n",
        "model.eval()"
      ]
    },
    {
      "cell_type": "markdown",
      "metadata": {
        "id": "5PSVr_J-_wmX"
      },
      "source": [
        "### Single prediction\n",
        "Let the tester examine your trained model on single predicttion test.<br>You will use the colab.file library to allow the tester to upload a single image of an item of clothing (28x28 image).<br>\n",
        "Then build a function that takes this image, loads the weights of the trained model (If you haven't loaded it before) and prints a prediction."
      ]
    },
    {
      "cell_type": "code",
      "execution_count": null,
      "metadata": {
        "colab": {
          "base_uri": "https://localhost:8080/",
          "height": 74
        },
        "id": "WGSD04i68JW-",
        "outputId": "c32ada43-9ee9-4dd9-eb58-45b357c76d5a"
      },
      "outputs": [
        {
          "output_type": "display_data",
          "data": {
            "text/plain": [
              "<IPython.core.display.HTML object>"
            ],
            "text/html": [
              "\n",
              "     <input type=\"file\" id=\"files-6e0488b5-7f42-4bfe-9e95-d46d6c506236\" name=\"files[]\" multiple disabled\n",
              "        style=\"border:none\" />\n",
              "     <output id=\"result-6e0488b5-7f42-4bfe-9e95-d46d6c506236\">\n",
              "      Upload widget is only available when the cell has been executed in the\n",
              "      current browser session. Please rerun this cell to enable.\n",
              "      </output>\n",
              "      <script>// Copyright 2017 Google LLC\n",
              "//\n",
              "// Licensed under the Apache License, Version 2.0 (the \"License\");\n",
              "// you may not use this file except in compliance with the License.\n",
              "// You may obtain a copy of the License at\n",
              "//\n",
              "//      http://www.apache.org/licenses/LICENSE-2.0\n",
              "//\n",
              "// Unless required by applicable law or agreed to in writing, software\n",
              "// distributed under the License is distributed on an \"AS IS\" BASIS,\n",
              "// WITHOUT WARRANTIES OR CONDITIONS OF ANY KIND, either express or implied.\n",
              "// See the License for the specific language governing permissions and\n",
              "// limitations under the License.\n",
              "\n",
              "/**\n",
              " * @fileoverview Helpers for google.colab Python module.\n",
              " */\n",
              "(function(scope) {\n",
              "function span(text, styleAttributes = {}) {\n",
              "  const element = document.createElement('span');\n",
              "  element.textContent = text;\n",
              "  for (const key of Object.keys(styleAttributes)) {\n",
              "    element.style[key] = styleAttributes[key];\n",
              "  }\n",
              "  return element;\n",
              "}\n",
              "\n",
              "// Max number of bytes which will be uploaded at a time.\n",
              "const MAX_PAYLOAD_SIZE = 100 * 1024;\n",
              "\n",
              "function _uploadFiles(inputId, outputId) {\n",
              "  const steps = uploadFilesStep(inputId, outputId);\n",
              "  const outputElement = document.getElementById(outputId);\n",
              "  // Cache steps on the outputElement to make it available for the next call\n",
              "  // to uploadFilesContinue from Python.\n",
              "  outputElement.steps = steps;\n",
              "\n",
              "  return _uploadFilesContinue(outputId);\n",
              "}\n",
              "\n",
              "// This is roughly an async generator (not supported in the browser yet),\n",
              "// where there are multiple asynchronous steps and the Python side is going\n",
              "// to poll for completion of each step.\n",
              "// This uses a Promise to block the python side on completion of each step,\n",
              "// then passes the result of the previous step as the input to the next step.\n",
              "function _uploadFilesContinue(outputId) {\n",
              "  const outputElement = document.getElementById(outputId);\n",
              "  const steps = outputElement.steps;\n",
              "\n",
              "  const next = steps.next(outputElement.lastPromiseValue);\n",
              "  return Promise.resolve(next.value.promise).then((value) => {\n",
              "    // Cache the last promise value to make it available to the next\n",
              "    // step of the generator.\n",
              "    outputElement.lastPromiseValue = value;\n",
              "    return next.value.response;\n",
              "  });\n",
              "}\n",
              "\n",
              "/**\n",
              " * Generator function which is called between each async step of the upload\n",
              " * process.\n",
              " * @param {string} inputId Element ID of the input file picker element.\n",
              " * @param {string} outputId Element ID of the output display.\n",
              " * @return {!Iterable<!Object>} Iterable of next steps.\n",
              " */\n",
              "function* uploadFilesStep(inputId, outputId) {\n",
              "  const inputElement = document.getElementById(inputId);\n",
              "  inputElement.disabled = false;\n",
              "\n",
              "  const outputElement = document.getElementById(outputId);\n",
              "  outputElement.innerHTML = '';\n",
              "\n",
              "  const pickedPromise = new Promise((resolve) => {\n",
              "    inputElement.addEventListener('change', (e) => {\n",
              "      resolve(e.target.files);\n",
              "    });\n",
              "  });\n",
              "\n",
              "  const cancel = document.createElement('button');\n",
              "  inputElement.parentElement.appendChild(cancel);\n",
              "  cancel.textContent = 'Cancel upload';\n",
              "  const cancelPromise = new Promise((resolve) => {\n",
              "    cancel.onclick = () => {\n",
              "      resolve(null);\n",
              "    };\n",
              "  });\n",
              "\n",
              "  // Wait for the user to pick the files.\n",
              "  const files = yield {\n",
              "    promise: Promise.race([pickedPromise, cancelPromise]),\n",
              "    response: {\n",
              "      action: 'starting',\n",
              "    }\n",
              "  };\n",
              "\n",
              "  cancel.remove();\n",
              "\n",
              "  // Disable the input element since further picks are not allowed.\n",
              "  inputElement.disabled = true;\n",
              "\n",
              "  if (!files) {\n",
              "    return {\n",
              "      response: {\n",
              "        action: 'complete',\n",
              "      }\n",
              "    };\n",
              "  }\n",
              "\n",
              "  for (const file of files) {\n",
              "    const li = document.createElement('li');\n",
              "    li.append(span(file.name, {fontWeight: 'bold'}));\n",
              "    li.append(span(\n",
              "        `(${file.type || 'n/a'}) - ${file.size} bytes, ` +\n",
              "        `last modified: ${\n",
              "            file.lastModifiedDate ? file.lastModifiedDate.toLocaleDateString() :\n",
              "                                    'n/a'} - `));\n",
              "    const percent = span('0% done');\n",
              "    li.appendChild(percent);\n",
              "\n",
              "    outputElement.appendChild(li);\n",
              "\n",
              "    const fileDataPromise = new Promise((resolve) => {\n",
              "      const reader = new FileReader();\n",
              "      reader.onload = (e) => {\n",
              "        resolve(e.target.result);\n",
              "      };\n",
              "      reader.readAsArrayBuffer(file);\n",
              "    });\n",
              "    // Wait for the data to be ready.\n",
              "    let fileData = yield {\n",
              "      promise: fileDataPromise,\n",
              "      response: {\n",
              "        action: 'continue',\n",
              "      }\n",
              "    };\n",
              "\n",
              "    // Use a chunked sending to avoid message size limits. See b/62115660.\n",
              "    let position = 0;\n",
              "    do {\n",
              "      const length = Math.min(fileData.byteLength - position, MAX_PAYLOAD_SIZE);\n",
              "      const chunk = new Uint8Array(fileData, position, length);\n",
              "      position += length;\n",
              "\n",
              "      const base64 = btoa(String.fromCharCode.apply(null, chunk));\n",
              "      yield {\n",
              "        response: {\n",
              "          action: 'append',\n",
              "          file: file.name,\n",
              "          data: base64,\n",
              "        },\n",
              "      };\n",
              "\n",
              "      let percentDone = fileData.byteLength === 0 ?\n",
              "          100 :\n",
              "          Math.round((position / fileData.byteLength) * 100);\n",
              "      percent.textContent = `${percentDone}% done`;\n",
              "\n",
              "    } while (position < fileData.byteLength);\n",
              "  }\n",
              "\n",
              "  // All done.\n",
              "  yield {\n",
              "    response: {\n",
              "      action: 'complete',\n",
              "    }\n",
              "  };\n",
              "}\n",
              "\n",
              "scope.google = scope.google || {};\n",
              "scope.google.colab = scope.google.colab || {};\n",
              "scope.google.colab._files = {\n",
              "  _uploadFiles,\n",
              "  _uploadFilesContinue,\n",
              "};\n",
              "})(self);\n",
              "</script> "
            ]
          },
          "metadata": {}
        },
        {
          "output_type": "stream",
          "name": "stdout",
          "text": [
            "Saving ankle_boot_9.npy to ankle_boot_9.npy\n"
          ]
        }
      ],
      "source": [
        "from numpy import load as load_npy\n",
        "from google.colab import files\n",
        "uploaded = files.upload()"
      ]
    },
    {
      "cell_type": "code",
      "execution_count": null,
      "metadata": {
        "id": "qJqiCGtr3dQN"
      },
      "outputs": [],
      "source": [
        "labels_dict = {\n",
        "  0:'T-shirt/top',\n",
        "  1:'Trouser',\n",
        "  2:'Pullover',\n",
        "  3:'Dress',\n",
        "  4:'Coat',\n",
        "  5:'Sandal',\n",
        "  6:'Shirt',\n",
        "  7:'Sneaker',\n",
        "  8:'Bag',\n",
        "  9:'Ankle boots',\n",
        "}"
      ]
    },
    {
      "cell_type": "code",
      "execution_count": null,
      "metadata": {
        "colab": {
          "base_uri": "https://localhost:8080/",
          "height": 283
        },
        "id": "Y7SBK56880aY",
        "outputId": "a25bc934-5075-41c7-87a3-02ffaafd7a32"
      },
      "outputs": [
        {
          "output_type": "display_data",
          "data": {
            "text/plain": [
              "<Figure size 432x288 with 1 Axes>"
            ],
            "image/png": "[encoded data removed]"
          },
          "metadata": {
            "needs_background": "light"
          }
        },
        {
          "output_type": "stream",
          "name": "stdout",
          "text": [
            "prediction: 9 - Ankle boots\n"
          ]
        }
      ],
      "source": [
        "np_image = np.load(list(uploaded.keys())[0])\n",
        "normalize_image = np_image/255.0\n",
        "plt.imshow(np_image, cmap='gray')\n",
        "plt.show()\n",
        "prediction_input = np.array([normalize_image.reshape(-1)])\n",
        "device = \"cuda\" if torch.cuda.is_available() else \"cpu\"\n",
        "model.to(device)\n",
        "prediction = model.predict(torch.from_numpy(prediction_input).float())\n",
        "print(\"prediction:\", prediction, \"-\", labels_dict[prediction])"
      ]
    }
  ],
  "metadata": {
    "accelerator": "GPU",
    "colab": {
      "provenance": [],
      "toc_visible": true
    },
    "kernelspec": {
      "display_name": "Python 3",
      "language": "python",
      "name": "python3"
    },
    "language_info": {
      "codemirror_mode": {
        "name": "ipython",
        "version": 3
      },
      "file_extension": ".py",
      "mimetype": "text/x-python",
      "name": "python",
      "nbconvert_exporter": "python",
      "pygments_lexer": "ipython3",
      "version": "3.8.10"
    },
    "vscode": {
      "interpreter": {
        "hash": "9438b728a636729c9f2610d5266607b6bd280933c2c7114a2036a7d965e8bcc0"
      }
    }
  },
  "nbformat": 4,
  "nbformat_minor": 0
}